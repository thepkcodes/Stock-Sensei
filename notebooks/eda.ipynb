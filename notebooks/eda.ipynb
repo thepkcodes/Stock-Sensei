{
 "cells": [
  {
   "cell_type": "markdown",
   "metadata": {},
   "source": [
    "# Exploratory Data Analysis (EDA)\n",
    "\n",
    "In this notebook, we will perform exploratory data analysis on the collected datasets: stock prices, news sentiment, and macroeconomic indicators."
   ]
  },
  {
   "cell_type": "code",
   "metadata": {},
   "source": [
    "import pandas as pd\n",
    "import matplotlib.pyplot as plt\n",
    "import seaborn as sns\n",
    "%matplotlib inline\n",
    "sns.set(style=\"whitegrid\")"
   ]
  },
  {
   "cell_type": "markdown",
   "metadata": {},
   "source": [
    "## Load Data"
   ]
  },
  {
   "cell_type": "code",
   "metadata": {},
   "source": [
    "# Load datasets\n",
    "stock_prices = pd.read_csv('../data/stock_prices.csv')\n",
    "sentiment = pd.read_csv('../data/news_sentiment.csv')\n",
    "macro_indicators = pd.read_csv('../data/macro_indicators.csv')"
   ]
  },
  {
   "cell_type": "markdown",
   "metadata": {},
   "source": [
    "## Stock Prices"
   ]
  },
  {
   "cell_type": "code",
   "metadata": {},
   "source": [
    "# Display basic statistical details\n",
    "stock_prices.describe()"
   ]
  },
  {
   "cell_type": "markdown",
   "metadata": {},
   "source": [
    "## News Sentiment"
   ]
  },
  {
   "cell_type": "code",
   "metadata": {},
   "source": [
    "# Display basic statistical details\n",
    "sentiment.describe()"
   ]
  },
  {
   "cell_type": "markdown",
   "metadata": {},
   "source": [
    "## Macro Indicators"
   ]
  },
  {
   "cell_type": "code",
   "metadata": {},
   "source": [
    "# Display basic statistical details\n",
    "macro_indicators.describe()"
   ]
  }
 ],
 "metadata": {
  "kernelspec": {
   "display_name": "Python 3",
   "language": "python",
   "name": "python3"
  },
  "language_info": {
   "codemirror_mode": {
    "name": "ipython",
    "version": 3
   },
   "file_extension": ".py",
   "mimetype": "text/x-python",
   "name": "python",
   "nbconvert_exporter": "python",
   "pygments_lexer": "ipython3",
   "version": "3.8.5"
  }
 },
 "nbformat": 4,
 "nbformat_minor": 2
}

